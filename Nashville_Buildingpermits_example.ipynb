{
 "cells": [
  {
   "cell_type": "markdown",
   "id": "1e86fd67",
   "metadata": {},
   "source": [
    "# Libraries"
   ]
  },
  {
   "cell_type": "code",
   "execution_count": 2,
   "id": "05a8a28b",
   "metadata": {},
   "outputs": [],
   "source": [
    "import json\n",
    "import requests\n",
    "import pandas as pd \n",
    "from joblib import Parallel, delayed\n",
    "from bs4 import BeautifulSoup\n",
    "import time \n",
    "import datetime\n",
    "import csv\n",
    "import dill as pickle\n",
    "import os \n",
    "import numpy as np\n"
   ]
  },
  {
   "cell_type": "markdown",
   "id": "d993f1d8",
   "metadata": {},
   "source": [
    "# Source"
   ]
  },
  {
   "cell_type": "code",
   "execution_count": 6,
   "id": "a6c16451",
   "metadata": {},
   "outputs": [
    {
     "data": {
      "text/plain": [
       "'https://epermits.nashville.gov/#/permit/3696474?page=1&searchText=broadway&searchCode=ADDR&searchType=permit&orderBy=fullAddress%20ASC,permitNumber%20ASC'"
      ]
     },
     "execution_count": 6,
     "metadata": {},
     "output_type": "execute_result"
    }
   ],
   "source": [
    "'https://epermits.nashville.gov/#/permit/3696474?page=1&searchText=broadway&searchCode=ADDR&searchType=permit&orderBy=fullAddress%20ASC,permitNumber%20ASC'"
   ]
  },
  {
   "cell_type": "markdown",
   "id": "3e7b4b14",
   "metadata": {},
   "source": [
    "# Functions "
   ]
  },
  {
   "cell_type": "code",
   "execution_count": 7,
   "id": "39b53139",
   "metadata": {},
   "outputs": [],
   "source": [
    "# exploratory functions to understand scraping process. Not needed except for array genration\n",
    "\n",
    "\n",
    "# URL from Nashville permiting site contains different keys for different permit types\n",
    "# we want to retrieve pages of records here set by a 20 step\n",
    "# we generate the urls as a list to iterate through later as url_list \n",
    "\n",
    "def produce_url(key):\n",
    "    #make list of urls for call \n",
    "    url_list = []\n",
    "    for lg in range(0,200,20):\n",
    "        base1 = 'https://epermits.nashville.gov/api/permit/1.0/search/advanced//'\n",
    "        key='ffed241688584fdead3c6204817b9202'\n",
    "        base =  '?$inlinecount=allpages&$skip='+str(lg)+'&top=20&$orderby=%20dateIssued%20DESC'\n",
    "        url_list.append(base1+key+ base)\n",
    "    return url_list\n",
    "        \n",
    "\n",
    "    \n",
    "    \n",
    "#with those url_list we send a get request for each url and generate a dataframe\n",
    "# concanate each dataframe together\n",
    "    \n",
    "def make_call(url_list):\n",
    "    lis_dfs=[]\n",
    "    for url in url_list:\n",
    "        r = requests.get(url).json()\n",
    "        print(r)\n",
    "        df = pd.DataFrame.from_dict(r['value'])\n",
    "        print(df)\n",
    "        lis_dfs.append(df)\n",
    "    mega =pd.concat(lis_dfs, ignore_index=True)    \n",
    "    return mega\n",
    "    \n",
    "#\n",
    "def deeper_permit(df):\n",
    "    base= 'https://epermits.nashville.gov/api/permit/1.0/Case/'\n",
    "    r = requests.get(base+str(3261302)).json()\n",
    "    return r\n",
    "\n",
    "    \n",
    "    \n",
    "    \n",
    "# make multiple arrays of span of numbers to iterate through to retrieve records \n",
    "\n",
    "def get_array():\n",
    "    for x in range(4001300,3961300,-1):\n",
    "        lse.append(x)\n",
    "    parallel_array = np.array_split(lse,len(lse)//1000)\n",
    "    return parallel_array\n"
   ]
  },
  {
   "cell_type": "markdown",
   "id": "c598d7bd",
   "metadata": {},
   "source": [
    "# Permit Choices\n",
    "## Differnet aspects of the permits are at different GET calls - dictionary to cycle through different calls and label\n"
   ]
  },
  {
   "cell_type": "code",
   "execution_count": 3,
   "id": "ae39cf81",
   "metadata": {},
   "outputs": [],
   "source": [
    "\n",
    "choc = {'base': 'https://epermits.nashville.gov/api/permit/1.0/Case/',\n",
    "        'case_address':'https://epermits.nashville.gov/api/permit/1.0/CaseAddress?$filter=caseID%20eq%',\n",
    "       'case_people':'https://epermits.nashville.gov/api/permit/1.0/CasePeople?$filter=caseID%20eq%',\n",
    "        'case_contractor':'https://epermits.nashville.gov/api/permit/1.0/CaseContractor?$filter=caseID%20eq%',\n",
    "          'case_people':'https://epermits.nashville.gov/api/permit/1.0/CasePeople?$filter=caseID%20eq%',\n",
    "          'case_related':'https://epermits.nashville.gov/api/permit/1.0/CaseRelated?$filter=caseID%20eq%',\n",
    "          'case_task':'https://epermits.nashville.gov/api/permit/1.0/CaseTask?$filter=caseID%20eq%',\n",
    "          'case_quan_group':'https://epermits.nashville.gov/api/permit/1.0/CaseQuantityGroup?$filter=caseID%20eq%',\n",
    "          'case_quan_group_detail':'https://epermits.nashville.gov/api/permit/1.0/CaseQuantityGroupDetail?$filter=caseID%20eq%',\n",
    "            'case_quan_group_detail':'https://epermits.nashville.gov/api/permit/1.0/CaseQuantityGroupDetail?$filter=caseID%20eq%',\n",
    "            'case_fee':'https://epermits.nashville.gov/api/permit/1.0/CaseFee?$filter=caseID%20eq%',\n",
    "            'case_payment':'https://epermits.nashville.gov/api/permit/1.0/CasePayment?$filter=caseID%20eq%',\n",
    "            'case_approval_conditions':'https://epermits.nashville.gov/api/permit/1.0/CaseApprovalCondition?$filter=caseID%20eq%'\n",
    "       }"
   ]
  },
  {
   "cell_type": "markdown",
   "id": "cc0aa78c",
   "metadata": {},
   "source": [
    "# Using Parallel Jobs Library to improve scraping speed\n"
   ]
  },
  {
   "cell_type": "code",
   "execution_count": null,
   "id": "374378e7",
   "metadata": {},
   "outputs": [],
   "source": [
    "\n",
    "def real_fast(number):\n",
    "    append_df= []\n",
    "    append_df_contractor=[]\n",
    "    for x in number:\n",
    "        base = 'https://epermits.nashville.gov/api/permit/1.0/Case/'\n",
    "        r = requests.get(url_base+str(x)).json()\n",
    "        df=pd.DataFrame.from_dict(r['value'])\n",
    "        try:\n",
    "            if df['caseType'][0] in ls:\n",
    "                append_df.append(df) \n",
    "                case_num= '20%27'+str(df['caseID'][0])+'%27'\n",
    "                conc_base = 'https://epermits.nashville.gov/api/permit/1.0/CaseContractor?$filter=caseID%20eq%'\n",
    "                r1= requests.get(conc_base+case_num).json()\n",
    "                df1=pd.DataFrame.from_dict(r1['value'])\n",
    "                append_df_contractor.append(df1)\n",
    "                counter+=1\n",
    "                print('RowAdded', counter)\n",
    "            else:\n",
    "                pass\n",
    "        except:\n",
    "            pass\n",
    "    mega=pd.concat(append_df, ignore_index = True)\n",
    "    mega.to_csv('/Users/jordan/Desktop/nashville_permits/base/base'+str(datetime.datetime.now().time())+'.csv', index =False )\n",
    "    mega1=pd.concat(append_df_contractor, ignore_index = True)\n",
    "    mega1.to_csv('/Users/jordan/Desktop/nashville_permits/base/contractor_base'+str(datetime.datetime.now().time())+'.csv', index =False )\n",
    "    return 'Done'\n",
    "\n",
    "\n",
    "\n",
    "\n",
    "permit_urls = Parallel(n_jobs=5, verbose=10)(delayed(real_fast)(records) for records in parallel_array)\n"
   ]
  },
  {
   "cell_type": "code",
   "execution_count": null,
   "id": "c6c2f1ca",
   "metadata": {},
   "outputs": [],
   "source": []
  }
 ],
 "metadata": {
  "kernelspec": {
   "display_name": "Python 3 (ipykernel)",
   "language": "python",
   "name": "python3"
  },
  "language_info": {
   "codemirror_mode": {
    "name": "ipython",
    "version": 3
   },
   "file_extension": ".py",
   "mimetype": "text/x-python",
   "name": "python",
   "nbconvert_exporter": "python",
   "pygments_lexer": "ipython3",
   "version": "3.10.4"
  }
 },
 "nbformat": 4,
 "nbformat_minor": 5
}
